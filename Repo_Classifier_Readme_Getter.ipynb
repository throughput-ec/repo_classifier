{
 "cells": [
  {
   "cell_type": "markdown",
   "metadata": {},
   "source": [
    "# Repository Classifier - SpaCy\n",
    "\n",
    "### Author: Socorro Dominguez Vidana\n",
    "#### June 2021\n",
    "\n",
    "## Obtaining the Readme Files"
   ]
  },
  {
   "cell_type": "markdown",
   "metadata": {},
   "source": [
    "## Loading the Data"
   ]
  },
  {
   "cell_type": "code",
   "execution_count": 1,
   "metadata": {},
   "outputs": [],
   "source": [
    "import pandas as pd\n",
    "import numpy as np\n",
    "import json\n",
    "\n",
    "# Load py2neo\n",
    "import py2neo\n",
    "from py2neo import Graph\n",
    "from py2neo.matching import *\n",
    "\n",
    "# Self created functions\n",
    "import config as cfg\n",
    "\n",
    "# turn off warnings\n",
    "np.seterr(divide = 'ignore')\n",
    "\n",
    "# Decoder\n",
    "import base64\n",
    "\n",
    "# API\n",
    "import requests"
   ]
  },
  {
   "cell_type": "code",
   "execution_count": 2,
   "metadata": {},
   "outputs": [],
   "source": [
    "graph = Graph(\"bolt://localhost:7687\", auth=(cfg.neo4j['auth']), bolt=True, password=(cfg.neo4j['password']))"
   ]
  },
  {
   "cell_type": "code",
   "execution_count": 3,
   "metadata": {},
   "outputs": [
    {
     "data": {
      "text/plain": [
       "Graph('bolt://neo4j@localhost:7687', name='neo4j')"
      ]
     },
     "execution_count": 3,
     "metadata": {},
     "output_type": "execute_result"
    }
   ],
   "source": [
    "graph"
   ]
  },
  {
   "cell_type": "code",
   "execution_count": 4,
   "metadata": {},
   "outputs": [],
   "source": [
    "sub_data = graph.run('''MATCH (s:SUBJECT)<-[:hasSubject]-(a:ANNOTATION)-[]->(dc:dataCat)\\\n",
    "WHERE s.id = 314 \\\n",
    "MATCH (dc)<-[:Target]-(:ANNOTATION)-[:Target]->(cr:codeRepo)\\\n",
    "RETURN distinct properties(dc), properties(cr), s.id''').data()"
   ]
  },
  {
   "cell_type": "code",
   "execution_count": 5,
   "metadata": {},
   "outputs": [],
   "source": [
    "helper_dict = {'dacat': [], #done\n",
    "               'dacat_name':[], #done\n",
    "               'meta':[], #meta\n",
    "               'cr_item' :[],\n",
    "               'cr_name' : [],\n",
    "               'repo_url': [],\n",
    "               'repo_readme':[]\n",
    "               }"
   ]
  },
  {
   "cell_type": "code",
   "execution_count": 6,
   "metadata": {},
   "outputs": [],
   "source": [
    "for i in range(0, len(sub_data)-1):\n",
    "    helper_dict['dacat'].append(sub_data[i]['properties(dc)']['id'])\n",
    "    helper_dict['dacat_name'].append(sub_data[i]['properties(dc)']['name'])\n",
    "    \n",
    "    try:\n",
    "        helper_dict['meta'].append(sub_data[i]['properties(cr)']['meta'])\n",
    "        json_data = json.loads(sub_data[i]['properties(cr)']['meta'])\n",
    "        helper_data = json_data['id']\n",
    "        helper_data_name = json_data['name']\n",
    "        helper_data_url = json_data['url']\n",
    "        helper_data_readme = json_data['readme']['readme']['readme']\n",
    "\n",
    "        # Name CR\n",
    "        helper_dict['cr_item'].append(helper_data)\n",
    "        helper_dict['cr_name'].append(helper_data_name)\n",
    "        helper_dict['repo_url'].append(helper_data_url)\n",
    "        helper_dict['repo_readme'].append(helper_data_readme)\n",
    "        \n",
    "        \n",
    "\n",
    "    # Take care of empty spaces.\n",
    "    except KeyError:\n",
    "        helper_dict['meta'].append(\"Missing\")\n",
    "        helper_dict['cr_item'].append(\"Missing\")\n",
    "        helper_dict['cr_name'].append(\"Missing\")\n",
    "        helper_dict['repo_url'].append(\"Missing\")\n",
    "        helper_dict['repo_readme'].append(\"Missing\")"
   ]
  },
  {
   "cell_type": "code",
   "execution_count": 7,
   "metadata": {},
   "outputs": [],
   "source": [
    "data = pd.DataFrame(helper_dict)"
   ]
  },
  {
   "cell_type": "code",
   "execution_count": 8,
   "metadata": {},
   "outputs": [],
   "source": [
    "data = data[data['cr_item'] != \"Missing\"]"
   ]
  },
  {
   "cell_type": "code",
   "execution_count": 9,
   "metadata": {},
   "outputs": [],
   "source": [
    "data = data[['dacat', 'dacat_name', 'cr_item', 'cr_name', 'repo_url', 'repo_readme']].reset_index(drop=True)"
   ]
  },
  {
   "cell_type": "code",
   "execution_count": 10,
   "metadata": {},
   "outputs": [
    {
     "data": {
      "text/html": [
       "<div>\n",
       "<style scoped>\n",
       "    .dataframe tbody tr th:only-of-type {\n",
       "        vertical-align: middle;\n",
       "    }\n",
       "\n",
       "    .dataframe tbody tr th {\n",
       "        vertical-align: top;\n",
       "    }\n",
       "\n",
       "    .dataframe thead th {\n",
       "        text-align: right;\n",
       "    }\n",
       "</style>\n",
       "<table border=\"1\" class=\"dataframe\">\n",
       "  <thead>\n",
       "    <tr style=\"text-align: right;\">\n",
       "      <th></th>\n",
       "      <th>dacat</th>\n",
       "      <th>dacat_name</th>\n",
       "      <th>cr_item</th>\n",
       "      <th>cr_name</th>\n",
       "      <th>repo_url</th>\n",
       "      <th>repo_readme</th>\n",
       "    </tr>\n",
       "  </thead>\n",
       "  <tbody>\n",
       "    <tr>\n",
       "      <th>0</th>\n",
       "      <td>r3d100012894</td>\n",
       "      <td>LinkedEarth Wiki</td>\n",
       "      <td>110591925</td>\n",
       "      <td>feup-infolab/ontologies-database</td>\n",
       "      <td>https://github.com/feup-infolab/ontologies-dat...</td>\n",
       "      <td>True</td>\n",
       "    </tr>\n",
       "    <tr>\n",
       "      <th>1</th>\n",
       "      <td>r3d100012894</td>\n",
       "      <td>LinkedEarth Wiki</td>\n",
       "      <td>41373407</td>\n",
       "      <td>nickmckay/LiPD-utilities</td>\n",
       "      <td>https://github.com/nickmckay/LiPD-utilities</td>\n",
       "      <td>True</td>\n",
       "    </tr>\n",
       "    <tr>\n",
       "      <th>2</th>\n",
       "      <td>r3d100012894</td>\n",
       "      <td>LinkedEarth Wiki</td>\n",
       "      <td>61573112</td>\n",
       "      <td>cyber4paleo/ClimateLife</td>\n",
       "      <td>https://github.com/cyber4paleo/ClimateLife</td>\n",
       "      <td>True</td>\n",
       "    </tr>\n",
       "    <tr>\n",
       "      <th>3</th>\n",
       "      <td>r3d100012894</td>\n",
       "      <td>LinkedEarth Wiki</td>\n",
       "      <td>133586046</td>\n",
       "      <td>nickmckay/LinkedEarth-Neotoma-P418</td>\n",
       "      <td>https://github.com/nickmckay/LinkedEarth-Neoto...</td>\n",
       "      <td>True</td>\n",
       "    </tr>\n",
       "    <tr>\n",
       "      <th>4</th>\n",
       "      <td>r3d100012894</td>\n",
       "      <td>LinkedEarth Wiki</td>\n",
       "      <td>152458689</td>\n",
       "      <td>earthcubearchitecture-project418gui/server</td>\n",
       "      <td>https://github.com/earthcubearchitecture-proje...</td>\n",
       "      <td>True</td>\n",
       "    </tr>\n",
       "  </tbody>\n",
       "</table>\n",
       "</div>"
      ],
      "text/plain": [
       "          dacat        dacat_name    cr_item  \\\n",
       "0  r3d100012894  LinkedEarth Wiki  110591925   \n",
       "1  r3d100012894  LinkedEarth Wiki   41373407   \n",
       "2  r3d100012894  LinkedEarth Wiki   61573112   \n",
       "3  r3d100012894  LinkedEarth Wiki  133586046   \n",
       "4  r3d100012894  LinkedEarth Wiki  152458689   \n",
       "\n",
       "                                      cr_name  \\\n",
       "0            feup-infolab/ontologies-database   \n",
       "1                    nickmckay/LiPD-utilities   \n",
       "2                     cyber4paleo/ClimateLife   \n",
       "3          nickmckay/LinkedEarth-Neotoma-P418   \n",
       "4  earthcubearchitecture-project418gui/server   \n",
       "\n",
       "                                            repo_url repo_readme  \n",
       "0  https://github.com/feup-infolab/ontologies-dat...        True  \n",
       "1        https://github.com/nickmckay/LiPD-utilities        True  \n",
       "2         https://github.com/cyber4paleo/ClimateLife        True  \n",
       "3  https://github.com/nickmckay/LinkedEarth-Neoto...        True  \n",
       "4  https://github.com/earthcubearchitecture-proje...        True  "
      ]
     },
     "execution_count": 10,
     "metadata": {},
     "output_type": "execute_result"
    }
   ],
   "source": [
    "data.head()"
   ]
  },
  {
   "cell_type": "code",
   "execution_count": 11,
   "metadata": {},
   "outputs": [],
   "source": [
    "data = data[data['repo_readme'] == True]"
   ]
  },
  {
   "cell_type": "code",
   "execution_count": 12,
   "metadata": {},
   "outputs": [],
   "source": [
    "token = cfg.github_api['secret']"
   ]
  },
  {
   "cell_type": "code",
   "execution_count": 13,
   "metadata": {},
   "outputs": [],
   "source": [
    "def get_readme(url, token = token):\n",
    "    url_to_api_endpoint = url.replace('https://github.com/', '')\n",
    "    new_url = 'https://api.github.com/repos/' + url_to_api_endpoint + '/contents/README.md'\n",
    "    headers = {'Authorization': f'token {token}', 'accept': 'application/JSON'}\n",
    "    \n",
    "    try:\n",
    "        readme = requests.get(new_url, headers=headers).json()\n",
    "        readme = readme['content']\n",
    "        readme = base64.b64decode(readme)\n",
    "    except:\n",
    "        readme = \"Missing\"\n",
    "\n",
    "    return readme"
   ]
  },
  {
   "cell_type": "code",
   "execution_count": 14,
   "metadata": {
    "scrolled": true
   },
   "outputs": [],
   "source": [
    "data['readme_content']= data['repo_url'].apply(lambda x: get_readme(x))"
   ]
  },
  {
   "cell_type": "code",
   "execution_count": 15,
   "metadata": {},
   "outputs": [
    {
     "data": {
      "text/html": [
       "<div>\n",
       "<style scoped>\n",
       "    .dataframe tbody tr th:only-of-type {\n",
       "        vertical-align: middle;\n",
       "    }\n",
       "\n",
       "    .dataframe tbody tr th {\n",
       "        vertical-align: top;\n",
       "    }\n",
       "\n",
       "    .dataframe thead th {\n",
       "        text-align: right;\n",
       "    }\n",
       "</style>\n",
       "<table border=\"1\" class=\"dataframe\">\n",
       "  <thead>\n",
       "    <tr style=\"text-align: right;\">\n",
       "      <th></th>\n",
       "      <th>dacat</th>\n",
       "      <th>dacat_name</th>\n",
       "      <th>cr_item</th>\n",
       "      <th>cr_name</th>\n",
       "      <th>repo_url</th>\n",
       "      <th>repo_readme</th>\n",
       "      <th>readme_content</th>\n",
       "    </tr>\n",
       "  </thead>\n",
       "  <tbody>\n",
       "    <tr>\n",
       "      <th>0</th>\n",
       "      <td>r3d100012894</td>\n",
       "      <td>LinkedEarth Wiki</td>\n",
       "      <td>110591925</td>\n",
       "      <td>feup-infolab/ontologies-database</td>\n",
       "      <td>https://github.com/feup-infolab/ontologies-dat...</td>\n",
       "      <td>True</td>\n",
       "      <td>b\"[![Codacy Badge](https://api.codacy.com/proj...</td>\n",
       "    </tr>\n",
       "    <tr>\n",
       "      <th>1</th>\n",
       "      <td>r3d100012894</td>\n",
       "      <td>LinkedEarth Wiki</td>\n",
       "      <td>41373407</td>\n",
       "      <td>nickmckay/LiPD-utilities</td>\n",
       "      <td>https://github.com/nickmckay/LiPD-utilities</td>\n",
       "      <td>True</td>\n",
       "      <td>b'&lt;h1 align=\"left\"&gt;\\n  &lt;br&gt;\\n  &lt;a href=\"http:/...</td>\n",
       "    </tr>\n",
       "    <tr>\n",
       "      <th>2</th>\n",
       "      <td>r3d100012894</td>\n",
       "      <td>LinkedEarth Wiki</td>\n",
       "      <td>61573112</td>\n",
       "      <td>cyber4paleo/ClimateLife</td>\n",
       "      <td>https://github.com/cyber4paleo/ClimateLife</td>\n",
       "      <td>True</td>\n",
       "      <td>b'# ClimateLife\\nWe aim to foster a closer int...</td>\n",
       "    </tr>\n",
       "    <tr>\n",
       "      <th>3</th>\n",
       "      <td>r3d100012894</td>\n",
       "      <td>LinkedEarth Wiki</td>\n",
       "      <td>133586046</td>\n",
       "      <td>nickmckay/LinkedEarth-Neotoma-P418</td>\n",
       "      <td>https://github.com/nickmckay/LinkedEarth-Neoto...</td>\n",
       "      <td>True</td>\n",
       "      <td>b'# p418NotebooksR\\nNotebooks in the R languag...</td>\n",
       "    </tr>\n",
       "    <tr>\n",
       "      <th>4</th>\n",
       "      <td>r3d100012894</td>\n",
       "      <td>LinkedEarth Wiki</td>\n",
       "      <td>152458689</td>\n",
       "      <td>earthcubearchitecture-project418gui/server</td>\n",
       "      <td>https://github.com/earthcubearchitecture-proje...</td>\n",
       "      <td>True</td>\n",
       "      <td>b'### UCAR JSON-LD Validation\\n\\n#### Project ...</td>\n",
       "    </tr>\n",
       "  </tbody>\n",
       "</table>\n",
       "</div>"
      ],
      "text/plain": [
       "          dacat        dacat_name    cr_item  \\\n",
       "0  r3d100012894  LinkedEarth Wiki  110591925   \n",
       "1  r3d100012894  LinkedEarth Wiki   41373407   \n",
       "2  r3d100012894  LinkedEarth Wiki   61573112   \n",
       "3  r3d100012894  LinkedEarth Wiki  133586046   \n",
       "4  r3d100012894  LinkedEarth Wiki  152458689   \n",
       "\n",
       "                                      cr_name  \\\n",
       "0            feup-infolab/ontologies-database   \n",
       "1                    nickmckay/LiPD-utilities   \n",
       "2                     cyber4paleo/ClimateLife   \n",
       "3          nickmckay/LinkedEarth-Neotoma-P418   \n",
       "4  earthcubearchitecture-project418gui/server   \n",
       "\n",
       "                                            repo_url repo_readme  \\\n",
       "0  https://github.com/feup-infolab/ontologies-dat...        True   \n",
       "1        https://github.com/nickmckay/LiPD-utilities        True   \n",
       "2         https://github.com/cyber4paleo/ClimateLife        True   \n",
       "3  https://github.com/nickmckay/LinkedEarth-Neoto...        True   \n",
       "4  https://github.com/earthcubearchitecture-proje...        True   \n",
       "\n",
       "                                      readme_content  \n",
       "0  b\"[![Codacy Badge](https://api.codacy.com/proj...  \n",
       "1  b'<h1 align=\"left\">\\n  <br>\\n  <a href=\"http:/...  \n",
       "2  b'# ClimateLife\\nWe aim to foster a closer int...  \n",
       "3  b'# p418NotebooksR\\nNotebooks in the R languag...  \n",
       "4  b'### UCAR JSON-LD Validation\\n\\n#### Project ...  "
      ]
     },
     "execution_count": 15,
     "metadata": {},
     "output_type": "execute_result"
    }
   ],
   "source": [
    "data.head()"
   ]
  },
  {
   "cell_type": "code",
   "execution_count": 16,
   "metadata": {},
   "outputs": [],
   "source": [
    "data.to_csv('data/repository_readme_files.csv')"
   ]
  },
  {
   "cell_type": "code",
   "execution_count": null,
   "metadata": {},
   "outputs": [],
   "source": []
  }
 ],
 "metadata": {
  "kernelspec": {
   "display_name": "Python 3",
   "language": "python",
   "name": "python3"
  },
  "language_info": {
   "codemirror_mode": {
    "name": "ipython",
    "version": 3
   },
   "file_extension": ".py",
   "mimetype": "text/x-python",
   "name": "python",
   "nbconvert_exporter": "python",
   "pygments_lexer": "ipython3",
   "version": "3.7.4"
  }
 },
 "nbformat": 4,
 "nbformat_minor": 2
}
